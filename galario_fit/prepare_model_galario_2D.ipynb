{
 "cells": [
  {
   "cell_type": "code",
   "execution_count": null,
   "id": "55387e30",
   "metadata": {},
   "outputs": [],
   "source": [
    "##########################################################################\n",
    "import numpy as np\n",
    "from numba import njit\n",
    "import matplotlib\n",
    "#matplotlib.use('Agg')\n",
    "import matplotlib.pyplot as plt\n",
    "import matplotlib.pyplot as plt\n",
    "from matplotlib.ticker import (MultipleLocator, FormatStrFormatter,\n",
    "                               AutoMinorLocator)\n",
    "from scipy import ndimage\n",
    "import os\n",
    "import time\n",
    "\n",
    "from emcee import EnsembleSampler\n",
    "import corner\n",
    "\n",
    "# Convert from arcsec and deg to radians\n",
    "from galario import arcsec, deg\n",
    "from galario.double import chi2Image, sampleImage, get_image_size\n",
    "from uvplot import COLUMNS_V0\n",
    "\n",
    "from uvplot import UVTable\n",
    "from IPython.display import display, HTML\n",
    "from galario_2D_model_functions import model_registry\n",
    "##########################################################################"
   ]
  },
  {
   "cell_type": "code",
   "execution_count": null,
   "id": "991fb27a-1626-4e22-9b2b-9bdd7602d82a",
   "metadata": {},
   "outputs": [],
   "source": [
    "##################### MODIFY HERE #####################\n",
    "target = 'CQ_Tau'\n",
    "\n",
    "uvtable_filename = f'../data/{target}_galario_uvtable.txt'\n",
    "\n",
    "# Select model\n",
    "selected_model = \"2rings_2arcs\""
   ]
  },
  {
   "cell_type": "code",
   "execution_count": null,
   "id": "13aedc37",
   "metadata": {},
   "outputs": [],
   "source": [
    "##################################\n",
    "#####   IMPORT THE UVTABLE   #####\n",
    "##################################\n",
    "\n",
    "print('Importing uvtable')\n",
    "wle = np.loadtxt(uvtable_filename, skiprows=2, max_rows=1)\n",
    "u, v, Re, Im, w = np.require(np.loadtxt(uvtable_filename, skiprows=4, unpack=True), requirements='C')"
   ]
  },
  {
   "cell_type": "code",
   "execution_count": null,
   "id": "430b1a54-1c05-4209-9fa0-35df9474f3bb",
   "metadata": {},
   "outputs": [],
   "source": [
    "########################################\n",
    "#####   DETERMINE THE IMAGE SIZE   #####\n",
    "########################################\n",
    "\n",
    "# compute the optimal image size (nxy=number of pixels, dxy=pixel size in radians)\n",
    "nxy, dxy = get_image_size(u, v, verbose=True, f_min=5., f_max=2.5)\n",
    "\n",
    "# define the image grid in radians\n",
    "xarr = np.linspace(-nxy/2*dxy, nxy/2*dxy, nxy)\n",
    "yarr = np.linspace(-nxy/2*dxy, nxy/2*dxy, nxy)\n",
    "x,y = np.meshgrid(xarr, yarr)"
   ]
  },
  {
   "cell_type": "code",
   "execution_count": null,
   "id": "f7ebd049-0626-4d32-8fc5-2938ff730cc8",
   "metadata": {},
   "outputs": [],
   "source": [
    "model_info = model_registry[selected_model]\n",
    "model_function = model_info[\"function\"]\n",
    "base_parameters = model_info[\"parameters\"]\n",
    "param_labels = model_info[\"labels\"]\n",
    "\n",
    "params = [param for param in base_parameters]\n",
    "params.extend([\"inc\", \"PA\", \"dRA\", \"dDec\"])\n",
    "ndim = len(params)"
   ]
  },
  {
   "cell_type": "code",
   "execution_count": null,
   "id": "989e307a-cfaf-4f07-a877-0fee233ee50b",
   "metadata": {},
   "outputs": [],
   "source": [
    "params"
   ]
  },
  {
   "cell_type": "code",
   "execution_count": null,
   "id": "80806c8b-ff54-4a19-8987-1c291a4174f3",
   "metadata": {},
   "outputs": [],
   "source": [
    "param_dict = {}\n",
    "\n",
    "param_dict['f1'] = 10.55\n",
    "param_dict['r1'] = 0.28\n",
    "param_dict['sigma1'] = 0.1\n",
    "\n",
    "param_dict['f2'] = 9.27\n",
    "param_dict['r2'] = 0.48\n",
    "param_dict['sigma2'] = 0.18\n",
    "\n",
    "param_dict['f_arc1'] = 10.4\n",
    "param_dict['r_arc1'] = 0.3\n",
    "param_dict['sigmar_arc1'] = 0.08\n",
    "param_dict['phi_arc1'] = 10\n",
    "param_dict['sigmaphi_arc1'] = 40\n",
    "\n",
    "param_dict['f_arc2'] = 10.4\n",
    "param_dict['r_arc2'] = 0.3\n",
    "param_dict['sigmar_arc2'] = 0.08\n",
    "param_dict['phi_arc2'] = 160\n",
    "param_dict['sigmaphi_arc2'] = 30\n",
    "\n",
    "param_dict['inc'] = 35.\n",
    "param_dict['PA'] = 55.\n",
    "param_dict['dRA'] = 0.0\n",
    "param_dict['dDec'] = 0.0"
   ]
  },
  {
   "cell_type": "code",
   "execution_count": null,
   "id": "fdfaf298-5c61-4989-afd3-26bbd715f237",
   "metadata": {},
   "outputs": [],
   "source": [
    "# Convert specific parameters to required units\n",
    "for key in [\"sigma0\", \"sigma1\", \"sigma2\", \"sigma3\", \"sigma4\", \"sigma5\", \"sigma6\", \n",
    "            \"r1\", \"r2\", \"r3\", \"r4\", \"r5\", \"r6\", \n",
    "            \"r_arc1\", \"r_arc2\", \"r_arc3\", \"r_arc4\", \"r_arc5\", \"r_arc6\",\n",
    "            \"sigmar_arc1\", \"sigmar_arc2\", \"sigmar_arc3\", \"sigmar_arc4\", \"sigmar_arc5\", \"sigmar_arc6\", \n",
    "            \"dRA\", \"dDec\"]:\n",
    "    if key in param_dict:\n",
    "        param_dict[key] *= arcsec\n",
    "\n",
    "for key in [\"sigmaphi_arc1\", \"sigmaphi_arc2\", \"sigmaphi_arc3\", \"sigmaphi_arc4\", \"sigmaphi_arc5\", \"sigmaphi_arc6\",\n",
    "            \"inc\", \"PA\"]:\n",
    "    if key in param_dict:\n",
    "        param_dict[key] *= deg\n",
    "\n",
    "for key in [\"phi_arc1\", \"phi_arc2\", \"phi_arc3\", \"phi_arc4\", \"phi_arc5\", \"phi_arc6\"]:\n",
    "    if key in param_dict:\n",
    "        param_dict[key] = (90+param_dict[key]) * deg\n",
    "\n",
    "for key in [\"f0\", \"f1\", \"f2\", \"f3\", \"f4\", \"f5\", \"f6\",\n",
    "            \"f_arc1\", \"f_arc2\", \"f_arc3\", \"f_arc4\", \"f_arc5\", \"f_arc6\"]:\n",
    "    if key in param_dict:\n",
    "        param_dict[key] = 10.0**param_dict[key] * dxy**2\n",
    "\n",
    "# Extract the necessary parameters for chi2Image\n",
    "inc = param_dict[\"inc\"]\n",
    "PA = param_dict[\"PA\"]\n",
    "dRA = param_dict[\"dRA\"]\n",
    "dDec = param_dict[\"dDec\"]\n",
    "funtion_param_dict = {key: val for key, val in param_dict.items() if key not in [\"inc\", \"PA\", \"dRA\", \"dDec\"]}\n",
    "funtion_param_dict[\"inc_rad\"] = inc"
   ]
  },
  {
   "cell_type": "code",
   "execution_count": null,
   "id": "36df28dd-428a-4987-bf71-a8e08e653ff4",
   "metadata": {},
   "outputs": [],
   "source": [
    "model_image = model_function(x,y,**funtion_param_dict)"
   ]
  },
  {
   "cell_type": "code",
   "execution_count": null,
   "id": "7855976f-7c5e-444c-be63-2563fd3865e1",
   "metadata": {},
   "outputs": [],
   "source": [
    "fig= plt.figure(figsize=(7,5.9))\n",
    "ax =fig.add_subplot(111)\n",
    "\n",
    "rotate_img = ndimage.rotate(model_image, -PA/deg, reshape=False)\n",
    "plt.imshow(rotate_img, cmap = 'inferno', extent=[nxy/2*dxy/arcsec, -nxy/2*dxy/arcsec, -nxy/2*dxy/arcsec, nxy/2*dxy/arcsec],origin='lower')\n",
    "\n",
    "cbar = plt.colorbar(pad=0.02)\n",
    "cbar.outline.set_linewidth(2)\n",
    "cbar.ax.tick_params(which='major', labelsize=14,width=2.5, length=6,direction='in')\n",
    "cbar.ax.tick_params(which='minor', labelsize=14,width=1.5, length=4,direction='in')\n",
    "cbar.set_label('Intensity [Jy/pixel]', fontsize = 17, labelpad=26)\n",
    "cbar.ax.minorticks_on()\n",
    "\n",
    "lim = 1.2\n",
    "ax.set_xlim(lim,-lim)\n",
    "ax.set_ylim(-lim,lim)\n",
    "\n",
    "index_ticks = 0.5\n",
    "ax.xaxis.set_major_locator(MultipleLocator(index_ticks))\n",
    "ax.xaxis.set_minor_locator(MultipleLocator(index_ticks/4))\n",
    "ax.yaxis.set_major_locator(MultipleLocator(index_ticks))\n",
    "ax.yaxis.set_minor_locator(MultipleLocator(index_ticks/4)) \n",
    "ax.tick_params(which='major',axis='both',right=True,top=True, labelsize=14, pad=5,width=2.5, length=6,direction='in',color='w')\n",
    "ax.tick_params(which='minor',axis='both',right=True,top=True, labelsize=14, pad=5,width=1.5, length=4,direction='in',color='w')\n",
    "ax.set_xlabel('RA offset  ($^{\\prime\\prime}$)', fontsize = 17, labelpad=10)\n",
    "ax.set_ylabel('Dec offset  ($^{\\prime\\prime}$)', fontsize = 17, labelpad=10)\n",
    "\n",
    "for side in ax.spines.keys():  # 'top', 'bottom', 'left', 'right'\n",
    "    ax.spines[side].set_linewidth(1)"
   ]
  },
  {
   "cell_type": "code",
   "execution_count": null,
   "id": "16189d3c-4752-4307-8656-ddb011ec806b",
   "metadata": {},
   "outputs": [],
   "source": [
    "vis_mod = sampleImage(model_image, dxy, u, v, PA=PA, dRA=dRA, dDec=dDec, origin='lower')"
   ]
  },
  {
   "cell_type": "code",
   "execution_count": null,
   "id": "61d121e3-a38e-44dd-93ff-b80c3182ecb0",
   "metadata": {},
   "outputs": [],
   "source": [
    "uvbin_size = 20e3     # uv-distance bin, units: wle\n",
    "\n",
    "# observations uv-plot\n",
    "uv = UVTable(uvtable=[u*wle, v*wle, Re, Im, w], wle=wle, columns=COLUMNS_V0)\n",
    "uv.apply_phase(-dRA, -dDec)         # center the source on the phase center\n",
    "uv.deproject(inc, PA)\n",
    "axes = uv.plot(linestyle='.', color='k', label='Data', uvbin_size=uvbin_size, linewidth=1, alpha=0.8)\n",
    "\n",
    "# model uv-plot\n",
    "uv_mod = UVTable(uvtable=[u*wle, v*wle, vis_mod.real, vis_mod.imag, w], wle=wle, columns=COLUMNS_V0)\n",
    "uv_mod.apply_phase(-dRA, -dDec)     # center the source on the phase center\n",
    "uv_mod.deproject(inc, PA)\n",
    "uv_mod.plot(axes=axes, linestyle='-', color='r', label='Model', yerr=False, uvbin_size=uvbin_size)\n",
    "\n",
    "axes[0].hlines(0,0,3000, linewidth=1, alpha=0.5, color='gray', linestyle='dashed')\n",
    "axes[1].hlines(0,0,3000, linewidth=1, alpha=0.5, color='gray', linestyle='dashed')\n",
    "\n",
    "\n",
    "axes[0].legend(fontsize=18, frameon=True)\n",
    "for side in axes[0].spines.keys():  # 'top', 'bottom', 'left', 'right'\n",
    "    axes[0].spines[side].set_linewidth(3)\n",
    "\n",
    "for side in axes[1].spines.keys():  # 'top', 'bottom', 'left', 'right'\n",
    "    axes[1].spines[side].set_linewidth(3)\n",
    "axes[0].tick_params(which='both',right=True,top=True, width=3, length=6,labelsize=14, direction='in',pad=5)\n",
    "axes[1].tick_params(which='both',right=True,top=True, width=3, length=6,labelsize=14, direction='in',pad=5)\n"
   ]
  }
 ],
 "metadata": {
  "kernelspec": {
   "display_name": "Python 3 (ipykernel)",
   "language": "python",
   "name": "python3"
  },
  "language_info": {
   "codemirror_mode": {
    "name": "ipython",
    "version": 3
   },
   "file_extension": ".py",
   "mimetype": "text/x-python",
   "name": "python",
   "nbconvert_exporter": "python",
   "pygments_lexer": "ipython3",
   "version": "3.9.20"
  }
 },
 "nbformat": 4,
 "nbformat_minor": 5
}
